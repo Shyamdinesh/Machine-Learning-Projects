{
 "cells": [
  {
   "cell_type": "markdown",
   "id": "176a995a",
   "metadata": {},
   "source": [
    "# Random Forest Project\n",
    "Taxi Fare Dataset"
   ]
  },
  {
   "cell_type": "code",
   "execution_count": 1,
   "id": "53d54f37",
   "metadata": {},
   "outputs": [],
   "source": [
    "import pandas as pd\n",
    "import numpy as np\n",
    "import matplotlib.pyplot as plt\n",
    "import seaborn as sns"
   ]
  },
  {
   "cell_type": "markdown",
   "id": "6d87eadc",
   "metadata": {},
   "source": [
    "# Importing the dataset"
   ]
  },
  {
   "cell_type": "code",
   "execution_count": 2,
   "id": "3ead9f37",
   "metadata": {},
   "outputs": [],
   "source": [
    "mydata=pd.read_csv(\"TaxiFare.csv\")"
   ]
  },
  {
   "cell_type": "code",
   "execution_count": 3,
   "id": "01085378",
   "metadata": {},
   "outputs": [
    {
     "data": {
      "text/html": [
       "<div>\n",
       "<style scoped>\n",
       "    .dataframe tbody tr th:only-of-type {\n",
       "        vertical-align: middle;\n",
       "    }\n",
       "\n",
       "    .dataframe tbody tr th {\n",
       "        vertical-align: top;\n",
       "    }\n",
       "\n",
       "    .dataframe thead th {\n",
       "        text-align: right;\n",
       "    }\n",
       "</style>\n",
       "<table border=\"1\" class=\"dataframe\">\n",
       "  <thead>\n",
       "    <tr style=\"text-align: right;\">\n",
       "      <th></th>\n",
       "      <th>unique_id</th>\n",
       "      <th>amount</th>\n",
       "      <th>date_time_of_pickup</th>\n",
       "      <th>longitude_of_pickup</th>\n",
       "      <th>latitude_of_pickup</th>\n",
       "      <th>longitude_of_dropoff</th>\n",
       "      <th>latitude_of_dropoff</th>\n",
       "      <th>no_of_passenger</th>\n",
       "    </tr>\n",
       "  </thead>\n",
       "  <tbody>\n",
       "    <tr>\n",
       "      <th>0</th>\n",
       "      <td>26:21.0</td>\n",
       "      <td>4.5</td>\n",
       "      <td>2009-06-15 17:26:21 UTC</td>\n",
       "      <td>-73.844311</td>\n",
       "      <td>40.721319</td>\n",
       "      <td>-73.841610</td>\n",
       "      <td>40.712278</td>\n",
       "      <td>1</td>\n",
       "    </tr>\n",
       "    <tr>\n",
       "      <th>1</th>\n",
       "      <td>52:16.0</td>\n",
       "      <td>16.9</td>\n",
       "      <td>2010-01-05 16:52:16 UTC</td>\n",
       "      <td>-74.016048</td>\n",
       "      <td>40.711303</td>\n",
       "      <td>-73.979268</td>\n",
       "      <td>40.782004</td>\n",
       "      <td>1</td>\n",
       "    </tr>\n",
       "    <tr>\n",
       "      <th>2</th>\n",
       "      <td>35:00.0</td>\n",
       "      <td>5.7</td>\n",
       "      <td>2011-08-18 00:35:00 UTC</td>\n",
       "      <td>-73.982738</td>\n",
       "      <td>40.761270</td>\n",
       "      <td>-73.991242</td>\n",
       "      <td>40.750562</td>\n",
       "      <td>2</td>\n",
       "    </tr>\n",
       "    <tr>\n",
       "      <th>3</th>\n",
       "      <td>30:42.0</td>\n",
       "      <td>7.7</td>\n",
       "      <td>2012-04-21 04:30:42 UTC</td>\n",
       "      <td>-73.987130</td>\n",
       "      <td>40.733143</td>\n",
       "      <td>-73.991567</td>\n",
       "      <td>40.758092</td>\n",
       "      <td>1</td>\n",
       "    </tr>\n",
       "    <tr>\n",
       "      <th>4</th>\n",
       "      <td>51:00.0</td>\n",
       "      <td>5.3</td>\n",
       "      <td>2010-03-09 07:51:00 UTC</td>\n",
       "      <td>-73.968095</td>\n",
       "      <td>40.768008</td>\n",
       "      <td>-73.956655</td>\n",
       "      <td>40.783762</td>\n",
       "      <td>1</td>\n",
       "    </tr>\n",
       "    <tr>\n",
       "      <th>...</th>\n",
       "      <td>...</td>\n",
       "      <td>...</td>\n",
       "      <td>...</td>\n",
       "      <td>...</td>\n",
       "      <td>...</td>\n",
       "      <td>...</td>\n",
       "      <td>...</td>\n",
       "      <td>...</td>\n",
       "    </tr>\n",
       "    <tr>\n",
       "      <th>49995</th>\n",
       "      <td>25:15.0</td>\n",
       "      <td>15.0</td>\n",
       "      <td>2013-06-12 23:25:15 UTC</td>\n",
       "      <td>-73.999973</td>\n",
       "      <td>40.748531</td>\n",
       "      <td>-74.016899</td>\n",
       "      <td>40.705993</td>\n",
       "      <td>1</td>\n",
       "    </tr>\n",
       "    <tr>\n",
       "      <th>49996</th>\n",
       "      <td>19:18.0</td>\n",
       "      <td>7.5</td>\n",
       "      <td>2015-06-22 17:19:18 UTC</td>\n",
       "      <td>-73.984756</td>\n",
       "      <td>40.768211</td>\n",
       "      <td>-73.987366</td>\n",
       "      <td>40.760597</td>\n",
       "      <td>1</td>\n",
       "    </tr>\n",
       "    <tr>\n",
       "      <th>49997</th>\n",
       "      <td>53:00.0</td>\n",
       "      <td>6.9</td>\n",
       "      <td>2011-01-30 04:53:00 UTC</td>\n",
       "      <td>-74.002698</td>\n",
       "      <td>40.739428</td>\n",
       "      <td>-73.998108</td>\n",
       "      <td>40.759483</td>\n",
       "      <td>1</td>\n",
       "    </tr>\n",
       "    <tr>\n",
       "      <th>49998</th>\n",
       "      <td>09:00.0</td>\n",
       "      <td>4.5</td>\n",
       "      <td>2012-11-06 07:09:00 UTC</td>\n",
       "      <td>-73.946062</td>\n",
       "      <td>40.777567</td>\n",
       "      <td>-73.953450</td>\n",
       "      <td>40.779687</td>\n",
       "      <td>2</td>\n",
       "    </tr>\n",
       "    <tr>\n",
       "      <th>49999</th>\n",
       "      <td>13:14.0</td>\n",
       "      <td>10.9</td>\n",
       "      <td>2010-01-13 08:13:14 UTC</td>\n",
       "      <td>-73.932603</td>\n",
       "      <td>40.763805</td>\n",
       "      <td>-73.932603</td>\n",
       "      <td>40.763805</td>\n",
       "      <td>1</td>\n",
       "    </tr>\n",
       "  </tbody>\n",
       "</table>\n",
       "<p>50000 rows × 8 columns</p>\n",
       "</div>"
      ],
      "text/plain": [
       "      unique_id  amount      date_time_of_pickup  longitude_of_pickup  \\\n",
       "0       26:21.0     4.5  2009-06-15 17:26:21 UTC           -73.844311   \n",
       "1       52:16.0    16.9  2010-01-05 16:52:16 UTC           -74.016048   \n",
       "2       35:00.0     5.7  2011-08-18 00:35:00 UTC           -73.982738   \n",
       "3       30:42.0     7.7  2012-04-21 04:30:42 UTC           -73.987130   \n",
       "4       51:00.0     5.3  2010-03-09 07:51:00 UTC           -73.968095   \n",
       "...         ...     ...                      ...                  ...   \n",
       "49995   25:15.0    15.0  2013-06-12 23:25:15 UTC           -73.999973   \n",
       "49996   19:18.0     7.5  2015-06-22 17:19:18 UTC           -73.984756   \n",
       "49997   53:00.0     6.9  2011-01-30 04:53:00 UTC           -74.002698   \n",
       "49998   09:00.0     4.5  2012-11-06 07:09:00 UTC           -73.946062   \n",
       "49999   13:14.0    10.9  2010-01-13 08:13:14 UTC           -73.932603   \n",
       "\n",
       "       latitude_of_pickup  longitude_of_dropoff  latitude_of_dropoff  \\\n",
       "0               40.721319            -73.841610            40.712278   \n",
       "1               40.711303            -73.979268            40.782004   \n",
       "2               40.761270            -73.991242            40.750562   \n",
       "3               40.733143            -73.991567            40.758092   \n",
       "4               40.768008            -73.956655            40.783762   \n",
       "...                   ...                   ...                  ...   \n",
       "49995           40.748531            -74.016899            40.705993   \n",
       "49996           40.768211            -73.987366            40.760597   \n",
       "49997           40.739428            -73.998108            40.759483   \n",
       "49998           40.777567            -73.953450            40.779687   \n",
       "49999           40.763805            -73.932603            40.763805   \n",
       "\n",
       "       no_of_passenger  \n",
       "0                    1  \n",
       "1                    1  \n",
       "2                    2  \n",
       "3                    1  \n",
       "4                    1  \n",
       "...                ...  \n",
       "49995                1  \n",
       "49996                1  \n",
       "49997                1  \n",
       "49998                2  \n",
       "49999                1  \n",
       "\n",
       "[50000 rows x 8 columns]"
      ]
     },
     "execution_count": 3,
     "metadata": {},
     "output_type": "execute_result"
    }
   ],
   "source": [
    "mydata"
   ]
  },
  {
   "cell_type": "markdown",
   "id": "625851cf",
   "metadata": {},
   "source": [
    "# Deriving the information about the dataset"
   ]
  },
  {
   "cell_type": "code",
   "execution_count": 4,
   "id": "95c02dac",
   "metadata": {},
   "outputs": [
    {
     "name": "stdout",
     "output_type": "stream",
     "text": [
      "<class 'pandas.core.frame.DataFrame'>\n",
      "RangeIndex: 50000 entries, 0 to 49999\n",
      "Data columns (total 8 columns):\n",
      " #   Column                Non-Null Count  Dtype  \n",
      "---  ------                --------------  -----  \n",
      " 0   unique_id             50000 non-null  object \n",
      " 1   amount                50000 non-null  float64\n",
      " 2   date_time_of_pickup   50000 non-null  object \n",
      " 3   longitude_of_pickup   50000 non-null  float64\n",
      " 4   latitude_of_pickup    50000 non-null  float64\n",
      " 5   longitude_of_dropoff  50000 non-null  float64\n",
      " 6   latitude_of_dropoff   50000 non-null  float64\n",
      " 7   no_of_passenger       50000 non-null  int64  \n",
      "dtypes: float64(5), int64(1), object(2)\n",
      "memory usage: 3.1+ MB\n"
     ]
    }
   ],
   "source": [
    "mydata.info()"
   ]
  },
  {
   "cell_type": "code",
   "execution_count": 5,
   "id": "92223f5c",
   "metadata": {},
   "outputs": [
    {
     "data": {
      "text/html": [
       "<div>\n",
       "<style scoped>\n",
       "    .dataframe tbody tr th:only-of-type {\n",
       "        vertical-align: middle;\n",
       "    }\n",
       "\n",
       "    .dataframe tbody tr th {\n",
       "        vertical-align: top;\n",
       "    }\n",
       "\n",
       "    .dataframe thead th {\n",
       "        text-align: right;\n",
       "    }\n",
       "</style>\n",
       "<table border=\"1\" class=\"dataframe\">\n",
       "  <thead>\n",
       "    <tr style=\"text-align: right;\">\n",
       "      <th></th>\n",
       "      <th>amount</th>\n",
       "      <th>longitude_of_pickup</th>\n",
       "      <th>latitude_of_pickup</th>\n",
       "      <th>longitude_of_dropoff</th>\n",
       "      <th>latitude_of_dropoff</th>\n",
       "      <th>no_of_passenger</th>\n",
       "    </tr>\n",
       "  </thead>\n",
       "  <tbody>\n",
       "    <tr>\n",
       "      <th>count</th>\n",
       "      <td>50000.000000</td>\n",
       "      <td>50000.000000</td>\n",
       "      <td>50000.000000</td>\n",
       "      <td>50000.000000</td>\n",
       "      <td>50000.000000</td>\n",
       "      <td>50000.000000</td>\n",
       "    </tr>\n",
       "    <tr>\n",
       "      <th>mean</th>\n",
       "      <td>11.364171</td>\n",
       "      <td>-72.509756</td>\n",
       "      <td>39.933759</td>\n",
       "      <td>-72.504616</td>\n",
       "      <td>39.926251</td>\n",
       "      <td>1.667840</td>\n",
       "    </tr>\n",
       "    <tr>\n",
       "      <th>std</th>\n",
       "      <td>9.685557</td>\n",
       "      <td>10.393860</td>\n",
       "      <td>6.224857</td>\n",
       "      <td>10.407570</td>\n",
       "      <td>6.014737</td>\n",
       "      <td>1.289195</td>\n",
       "    </tr>\n",
       "    <tr>\n",
       "      <th>min</th>\n",
       "      <td>-5.000000</td>\n",
       "      <td>-75.423848</td>\n",
       "      <td>-74.006893</td>\n",
       "      <td>-84.654241</td>\n",
       "      <td>-74.006377</td>\n",
       "      <td>0.000000</td>\n",
       "    </tr>\n",
       "    <tr>\n",
       "      <th>25%</th>\n",
       "      <td>6.000000</td>\n",
       "      <td>-73.992062</td>\n",
       "      <td>40.734880</td>\n",
       "      <td>-73.991152</td>\n",
       "      <td>40.734372</td>\n",
       "      <td>1.000000</td>\n",
       "    </tr>\n",
       "    <tr>\n",
       "      <th>50%</th>\n",
       "      <td>8.500000</td>\n",
       "      <td>-73.981840</td>\n",
       "      <td>40.752678</td>\n",
       "      <td>-73.980082</td>\n",
       "      <td>40.753372</td>\n",
       "      <td>1.000000</td>\n",
       "    </tr>\n",
       "    <tr>\n",
       "      <th>75%</th>\n",
       "      <td>12.500000</td>\n",
       "      <td>-73.967148</td>\n",
       "      <td>40.767360</td>\n",
       "      <td>-73.963584</td>\n",
       "      <td>40.768167</td>\n",
       "      <td>2.000000</td>\n",
       "    </tr>\n",
       "    <tr>\n",
       "      <th>max</th>\n",
       "      <td>200.000000</td>\n",
       "      <td>40.783472</td>\n",
       "      <td>401.083332</td>\n",
       "      <td>40.851027</td>\n",
       "      <td>43.415190</td>\n",
       "      <td>6.000000</td>\n",
       "    </tr>\n",
       "  </tbody>\n",
       "</table>\n",
       "</div>"
      ],
      "text/plain": [
       "             amount  longitude_of_pickup  latitude_of_pickup  \\\n",
       "count  50000.000000         50000.000000        50000.000000   \n",
       "mean      11.364171           -72.509756           39.933759   \n",
       "std        9.685557            10.393860            6.224857   \n",
       "min       -5.000000           -75.423848          -74.006893   \n",
       "25%        6.000000           -73.992062           40.734880   \n",
       "50%        8.500000           -73.981840           40.752678   \n",
       "75%       12.500000           -73.967148           40.767360   \n",
       "max      200.000000            40.783472          401.083332   \n",
       "\n",
       "       longitude_of_dropoff  latitude_of_dropoff  no_of_passenger  \n",
       "count          50000.000000         50000.000000     50000.000000  \n",
       "mean             -72.504616            39.926251         1.667840  \n",
       "std               10.407570             6.014737         1.289195  \n",
       "min              -84.654241           -74.006377         0.000000  \n",
       "25%              -73.991152            40.734372         1.000000  \n",
       "50%              -73.980082            40.753372         1.000000  \n",
       "75%              -73.963584            40.768167         2.000000  \n",
       "max               40.851027            43.415190         6.000000  "
      ]
     },
     "execution_count": 5,
     "metadata": {},
     "output_type": "execute_result"
    }
   ],
   "source": [
    "mydata.describe()"
   ]
  },
  {
   "cell_type": "markdown",
   "id": "c54897c3",
   "metadata": {},
   "source": [
    "# Checking for Null values"
   ]
  },
  {
   "cell_type": "code",
   "execution_count": 6,
   "id": "7734284a",
   "metadata": {},
   "outputs": [
    {
     "data": {
      "text/plain": [
       "unique_id               0\n",
       "amount                  0\n",
       "date_time_of_pickup     0\n",
       "longitude_of_pickup     0\n",
       "latitude_of_pickup      0\n",
       "longitude_of_dropoff    0\n",
       "latitude_of_dropoff     0\n",
       "no_of_passenger         0\n",
       "dtype: int64"
      ]
     },
     "execution_count": 6,
     "metadata": {},
     "output_type": "execute_result"
    }
   ],
   "source": [
    "mydata.isnull().sum()"
   ]
  },
  {
   "cell_type": "markdown",
   "id": "503ae8cc",
   "metadata": {},
   "source": [
    "# Correlation"
   ]
  },
  {
   "cell_type": "code",
   "execution_count": 7,
   "id": "fde118ac",
   "metadata": {},
   "outputs": [
    {
     "data": {
      "text/html": [
       "<div>\n",
       "<style scoped>\n",
       "    .dataframe tbody tr th:only-of-type {\n",
       "        vertical-align: middle;\n",
       "    }\n",
       "\n",
       "    .dataframe tbody tr th {\n",
       "        vertical-align: top;\n",
       "    }\n",
       "\n",
       "    .dataframe thead th {\n",
       "        text-align: right;\n",
       "    }\n",
       "</style>\n",
       "<table border=\"1\" class=\"dataframe\">\n",
       "  <thead>\n",
       "    <tr style=\"text-align: right;\">\n",
       "      <th></th>\n",
       "      <th>amount</th>\n",
       "      <th>longitude_of_pickup</th>\n",
       "      <th>latitude_of_pickup</th>\n",
       "      <th>longitude_of_dropoff</th>\n",
       "      <th>latitude_of_dropoff</th>\n",
       "      <th>no_of_passenger</th>\n",
       "    </tr>\n",
       "  </thead>\n",
       "  <tbody>\n",
       "    <tr>\n",
       "      <th>amount</th>\n",
       "      <td>1.000000</td>\n",
       "      <td>0.005944</td>\n",
       "      <td>-0.007338</td>\n",
       "      <td>0.004286</td>\n",
       "      <td>-0.005442</td>\n",
       "      <td>0.016583</td>\n",
       "    </tr>\n",
       "    <tr>\n",
       "      <th>longitude_of_pickup</th>\n",
       "      <td>0.005944</td>\n",
       "      <td>1.000000</td>\n",
       "      <td>-0.950588</td>\n",
       "      <td>0.956131</td>\n",
       "      <td>-0.946968</td>\n",
       "      <td>-0.005604</td>\n",
       "    </tr>\n",
       "    <tr>\n",
       "      <th>latitude_of_pickup</th>\n",
       "      <td>-0.007338</td>\n",
       "      <td>-0.950588</td>\n",
       "      <td>1.000000</td>\n",
       "      <td>-0.911123</td>\n",
       "      <td>0.928189</td>\n",
       "      <td>0.003237</td>\n",
       "    </tr>\n",
       "    <tr>\n",
       "      <th>longitude_of_dropoff</th>\n",
       "      <td>0.004286</td>\n",
       "      <td>0.956131</td>\n",
       "      <td>-0.911123</td>\n",
       "      <td>1.000000</td>\n",
       "      <td>-0.982117</td>\n",
       "      <td>-0.004936</td>\n",
       "    </tr>\n",
       "    <tr>\n",
       "      <th>latitude_of_dropoff</th>\n",
       "      <td>-0.005442</td>\n",
       "      <td>-0.946968</td>\n",
       "      <td>0.928189</td>\n",
       "      <td>-0.982117</td>\n",
       "      <td>1.000000</td>\n",
       "      <td>0.002958</td>\n",
       "    </tr>\n",
       "    <tr>\n",
       "      <th>no_of_passenger</th>\n",
       "      <td>0.016583</td>\n",
       "      <td>-0.005604</td>\n",
       "      <td>0.003237</td>\n",
       "      <td>-0.004936</td>\n",
       "      <td>0.002958</td>\n",
       "      <td>1.000000</td>\n",
       "    </tr>\n",
       "  </tbody>\n",
       "</table>\n",
       "</div>"
      ],
      "text/plain": [
       "                        amount  longitude_of_pickup  latitude_of_pickup  \\\n",
       "amount                1.000000             0.005944           -0.007338   \n",
       "longitude_of_pickup   0.005944             1.000000           -0.950588   \n",
       "latitude_of_pickup   -0.007338            -0.950588            1.000000   \n",
       "longitude_of_dropoff  0.004286             0.956131           -0.911123   \n",
       "latitude_of_dropoff  -0.005442            -0.946968            0.928189   \n",
       "no_of_passenger       0.016583            -0.005604            0.003237   \n",
       "\n",
       "                      longitude_of_dropoff  latitude_of_dropoff  \\\n",
       "amount                            0.004286            -0.005442   \n",
       "longitude_of_pickup               0.956131            -0.946968   \n",
       "latitude_of_pickup               -0.911123             0.928189   \n",
       "longitude_of_dropoff              1.000000            -0.982117   \n",
       "latitude_of_dropoff              -0.982117             1.000000   \n",
       "no_of_passenger                  -0.004936             0.002958   \n",
       "\n",
       "                      no_of_passenger  \n",
       "amount                       0.016583  \n",
       "longitude_of_pickup         -0.005604  \n",
       "latitude_of_pickup           0.003237  \n",
       "longitude_of_dropoff        -0.004936  \n",
       "latitude_of_dropoff          0.002958  \n",
       "no_of_passenger              1.000000  "
      ]
     },
     "execution_count": 7,
     "metadata": {},
     "output_type": "execute_result"
    }
   ],
   "source": [
    "mydata_corr = mydata.corr()\n",
    "mydata_corr"
   ]
  },
  {
   "cell_type": "markdown",
   "id": "b8fe5964",
   "metadata": {},
   "source": [
    "# Graphical Visualization of the dataset"
   ]
  },
  {
   "cell_type": "code",
   "execution_count": 8,
   "id": "746a4dbd",
   "metadata": {},
   "outputs": [
    {
     "data": {
      "text/plain": [
       "<AxesSubplot:>"
      ]
     },
     "execution_count": 8,
     "metadata": {},
     "output_type": "execute_result"
    },
    {
     "data": {
      "image/png": "[encoded data removed]",
      "text/plain": [
       "<Figure size 432x288 with 2 Axes>"
      ]
     },
     "metadata": {
      "needs_background": "light"
     },
     "output_type": "display_data"
    }
   ],
   "source": [
    "sns.heatmap(data=mydata_corr,annot=True,cmap='RdBu')"
   ]
  },
  {
   "cell_type": "code",
   "execution_count": 9,
   "id": "8e7729d7",
   "metadata": {},
   "outputs": [
    {
     "data": {
      "text/plain": [
       "<seaborn.axisgrid.PairGrid at 0x197b9248850>"
      ]
     },
     "execution_count": 9,
     "metadata": {},
     "output_type": "execute_result"
    },
    {
     "data": {
      "text/plain": [
       "<Figure size 1440x720 with 0 Axes>"
      ]
     },
     "metadata": {},
     "output_type": "display_data"
    },
    {
     "data": {
      "image/png": "[encoded data removed]",
      "text/plain": [
       "<Figure size 1080x1080 with 42 Axes>"
      ]
     },
     "metadata": {
      "needs_background": "light"
     },
     "output_type": "display_data"
    }
   ],
   "source": [
    "plt.figure(figsize=(20,10))\n",
    "sns.pairplot(mydata_corr)"
   ]
  },
  {
   "cell_type": "code",
   "execution_count": 10,
   "id": "4fed5091",
   "metadata": {},
   "outputs": [
    {
     "data": {
      "image/png": "[encoded data removed]",
      "text/plain": [
       "<Figure size 1440x720 with 1 Axes>"
      ]
     },
     "metadata": {
      "needs_background": "light"
     },
     "output_type": "display_data"
    }
   ],
   "source": [
    "plt.figure(figsize=(20,10))\n",
    "sns.boxplot(x=\"no_of_passenger\",y=\"amount\",data=mydata);"
   ]
  },
  {
   "cell_type": "code",
   "execution_count": 11,
   "id": "65868f94",
   "metadata": {},
   "outputs": [
    {
     "data": {
      "image/png": "[encoded data removed]",
      "text/plain": [
       "<Figure size 360x360 with 1 Axes>"
      ]
     },
     "metadata": {
      "needs_background": "light"
     },
     "output_type": "display_data"
    }
   ],
   "source": [
    "sns.catplot(x='no_of_passenger',y='amount',data=mydata);"
   ]
  },
  {
   "cell_type": "code",
   "execution_count": 12,
   "id": "153c731b",
   "metadata": {},
   "outputs": [
    {
     "data": {
      "image/png": "[encoded data removed]",
      "text/plain": [
       "<Figure size 432x432 with 3 Axes>"
      ]
     },
     "metadata": {
      "needs_background": "light"
     },
     "output_type": "display_data"
    }
   ],
   "source": [
    "sns.jointplot(x=\"latitude_of_pickup\",y='amount',data=mydata.sample(3000));"
   ]
  },
  {
   "cell_type": "markdown",
   "id": "bc94e8ad",
   "metadata": {},
   "source": [
    "# Dropping of column"
   ]
  },
  {
   "cell_type": "code",
   "execution_count": 13,
   "id": "53ea9396",
   "metadata": {},
   "outputs": [],
   "source": [
    "mydata=mydata.drop(\"date_time_of_pickup\",axis=1)\n",
    "mydata=mydata.drop(\"unique_id\",axis=1)"
   ]
  },
  {
   "cell_type": "markdown",
   "id": "a2d4db53",
   "metadata": {},
   "source": [
    "# Declaring Dependent and independent variables"
   ]
  },
  {
   "cell_type": "code",
   "execution_count": 14,
   "id": "9053403b",
   "metadata": {},
   "outputs": [],
   "source": [
    "y_dep=mydata.amount"
   ]
  },
  {
   "cell_type": "code",
   "execution_count": 15,
   "id": "d80f5c93",
   "metadata": {},
   "outputs": [],
   "source": [
    "x_ind=mydata.drop(\"amount\",axis=1)"
   ]
  },
  {
   "cell_type": "markdown",
   "id": "a7818f1a",
   "metadata": {},
   "source": [
    "# Importing Train_Test_Split"
   ]
  },
  {
   "cell_type": "code",
   "execution_count": 16,
   "id": "0e192754",
   "metadata": {},
   "outputs": [],
   "source": [
    "from sklearn.model_selection import train_test_split"
   ]
  },
  {
   "cell_type": "code",
   "execution_count": 17,
   "id": "b99573c5",
   "metadata": {},
   "outputs": [],
   "source": [
    "x_train,x_test,y_train,y_test=train_test_split(x_ind,y_dep,test_size=0.2,random_state=2)"
   ]
  },
  {
   "cell_type": "markdown",
   "id": "aef18e62",
   "metadata": {},
   "source": [
    "# Random Forest Regression"
   ]
  },
  {
   "cell_type": "code",
   "execution_count": 18,
   "id": "1810d82c",
   "metadata": {},
   "outputs": [],
   "source": [
    "from sklearn.ensemble import RandomForestRegressor"
   ]
  },
  {
   "cell_type": "code",
   "execution_count": 19,
   "id": "3444a0ca",
   "metadata": {},
   "outputs": [],
   "source": [
    "model_rf=RandomForestRegressor(random_state=3)"
   ]
  },
  {
   "cell_type": "code",
   "execution_count": 20,
   "id": "4cfc5ff5",
   "metadata": {},
   "outputs": [],
   "source": [
    "model_rf=model_rf.fit(x_train,y_train)"
   ]
  },
  {
   "cell_type": "code",
   "execution_count": 21,
   "id": "ee05a401",
   "metadata": {},
   "outputs": [
    {
     "data": {
      "text/plain": [
       "array([ 6.315, 15.582,  7.743, ..., 12.793, 14.367,  7.175])"
      ]
     },
     "execution_count": 21,
     "metadata": {},
     "output_type": "execute_result"
    }
   ],
   "source": [
    "y_pred=model_rf.predict(x_test)\n",
    "y_pred"
   ]
  },
  {
   "cell_type": "code",
   "execution_count": 22,
   "id": "4f4cda79",
   "metadata": {},
   "outputs": [
    {
     "data": {
      "text/plain": [
       "0.7700843298183686"
      ]
     },
     "execution_count": 22,
     "metadata": {},
     "output_type": "execute_result"
    }
   ],
   "source": [
    "model_rf.score(x_test,y_test)"
   ]
  },
  {
   "cell_type": "markdown",
   "id": "b9c8ea25",
   "metadata": {},
   "source": [
    "# Mean Square Error"
   ]
  },
  {
   "cell_type": "code",
   "execution_count": 23,
   "id": "2a9ef2cc",
   "metadata": {},
   "outputs": [],
   "source": [
    "from sklearn.metrics import mean_squared_error"
   ]
  },
  {
   "cell_type": "code",
   "execution_count": 24,
   "id": "d0b784de",
   "metadata": {},
   "outputs": [
    {
     "data": {
      "text/plain": [
       "21.29804199770552"
      ]
     },
     "execution_count": 24,
     "metadata": {},
     "output_type": "execute_result"
    }
   ],
   "source": [
    "MSE=mean_squared_error(y_test,y_pred)\n",
    "MSE"
   ]
  },
  {
   "cell_type": "markdown",
   "id": "4107a466",
   "metadata": {},
   "source": [
    "# Root Mean Square Error"
   ]
  },
  {
   "cell_type": "code",
   "execution_count": 25,
   "id": "8a914cde",
   "metadata": {},
   "outputs": [
    {
     "data": {
      "text/plain": [
       "4.614980173056599"
      ]
     },
     "execution_count": 25,
     "metadata": {},
     "output_type": "execute_result"
    }
   ],
   "source": [
    "root_mean=np.sqrt(MSE)\n",
    "root_mean"
   ]
  },
  {
   "cell_type": "markdown",
   "id": "ce46bda4",
   "metadata": {},
   "source": [
    "# Creating a Data Frame for Actual and Machine Predicted"
   ]
  },
  {
   "cell_type": "code",
   "execution_count": 26,
   "id": "8fca67d2",
   "metadata": {},
   "outputs": [
    {
     "data": {
      "text/html": [
       "<div>\n",
       "<style scoped>\n",
       "    .dataframe tbody tr th:only-of-type {\n",
       "        vertical-align: middle;\n",
       "    }\n",
       "\n",
       "    .dataframe tbody tr th {\n",
       "        vertical-align: top;\n",
       "    }\n",
       "\n",
       "    .dataframe thead th {\n",
       "        text-align: right;\n",
       "    }\n",
       "</style>\n",
       "<table border=\"1\" class=\"dataframe\">\n",
       "  <thead>\n",
       "    <tr style=\"text-align: right;\">\n",
       "      <th></th>\n",
       "      <th>Actual</th>\n",
       "      <th>Machine_Predicted</th>\n",
       "    </tr>\n",
       "  </thead>\n",
       "  <tbody>\n",
       "    <tr>\n",
       "      <th>23656</th>\n",
       "      <td>8.0</td>\n",
       "      <td>6.315</td>\n",
       "    </tr>\n",
       "    <tr>\n",
       "      <th>27442</th>\n",
       "      <td>12.0</td>\n",
       "      <td>15.582</td>\n",
       "    </tr>\n",
       "    <tr>\n",
       "      <th>40162</th>\n",
       "      <td>7.0</td>\n",
       "      <td>7.743</td>\n",
       "    </tr>\n",
       "    <tr>\n",
       "      <th>8459</th>\n",
       "      <td>8.0</td>\n",
       "      <td>9.082</td>\n",
       "    </tr>\n",
       "    <tr>\n",
       "      <th>8051</th>\n",
       "      <td>10.1</td>\n",
       "      <td>10.000</td>\n",
       "    </tr>\n",
       "    <tr>\n",
       "      <th>...</th>\n",
       "      <td>...</td>\n",
       "      <td>...</td>\n",
       "    </tr>\n",
       "    <tr>\n",
       "      <th>44231</th>\n",
       "      <td>15.0</td>\n",
       "      <td>14.021</td>\n",
       "    </tr>\n",
       "    <tr>\n",
       "      <th>18034</th>\n",
       "      <td>9.5</td>\n",
       "      <td>9.019</td>\n",
       "    </tr>\n",
       "    <tr>\n",
       "      <th>33856</th>\n",
       "      <td>12.5</td>\n",
       "      <td>12.793</td>\n",
       "    </tr>\n",
       "    <tr>\n",
       "      <th>15906</th>\n",
       "      <td>12.5</td>\n",
       "      <td>14.367</td>\n",
       "    </tr>\n",
       "    <tr>\n",
       "      <th>40899</th>\n",
       "      <td>7.5</td>\n",
       "      <td>7.175</td>\n",
       "    </tr>\n",
       "  </tbody>\n",
       "</table>\n",
       "<p>10000 rows × 2 columns</p>\n",
       "</div>"
      ],
      "text/plain": [
       "       Actual  Machine_Predicted\n",
       "23656     8.0              6.315\n",
       "27442    12.0             15.582\n",
       "40162     7.0              7.743\n",
       "8459      8.0              9.082\n",
       "8051     10.1             10.000\n",
       "...       ...                ...\n",
       "44231    15.0             14.021\n",
       "18034     9.5              9.019\n",
       "33856    12.5             12.793\n",
       "15906    12.5             14.367\n",
       "40899     7.5              7.175\n",
       "\n",
       "[10000 rows x 2 columns]"
      ]
     },
     "execution_count": 26,
     "metadata": {},
     "output_type": "execute_result"
    }
   ],
   "source": [
    "f_com=pd.DataFrame({'Actual':y_test,'Machine_Predicted':y_pred})\n",
    "f_com"
   ]
  },
  {
   "cell_type": "markdown",
   "id": "937cdcea",
   "metadata": {},
   "source": [
    "# Residual"
   ]
  },
  {
   "cell_type": "code",
   "execution_count": 27,
   "id": "809e5764",
   "metadata": {},
   "outputs": [
    {
     "data": {
      "text/plain": [
       "23656    1.685\n",
       "27442   -3.582\n",
       "40162   -0.743\n",
       "8459    -1.082\n",
       "8051     0.100\n",
       "         ...  \n",
       "44231    0.979\n",
       "18034    0.481\n",
       "33856   -0.293\n",
       "15906   -1.867\n",
       "40899    0.325\n",
       "Name: amount, Length: 10000, dtype: float64"
      ]
     },
     "execution_count": 27,
     "metadata": {},
     "output_type": "execute_result"
    }
   ],
   "source": [
    "Residual=y_test-y_pred\n",
    "Residual"
   ]
  },
  {
   "cell_type": "markdown",
   "id": "7661ada7",
   "metadata": {},
   "source": [
    "# Graphical Representation"
   ]
  },
  {
   "cell_type": "code",
   "execution_count": 28,
   "id": "ee73c1f1",
   "metadata": {},
   "outputs": [
    {
     "data": {
      "text/plain": [
       "(10000, 5)"
      ]
     },
     "execution_count": 28,
     "metadata": {},
     "output_type": "execute_result"
    }
   ],
   "source": [
    "x_test.shape"
   ]
  },
  {
   "cell_type": "code",
   "execution_count": 29,
   "id": "e7881537",
   "metadata": {},
   "outputs": [],
   "source": [
    "comp_g=f_com.head(100)"
   ]
  },
  {
   "cell_type": "code",
   "execution_count": 30,
   "id": "2f1f0af0",
   "metadata": {},
   "outputs": [
    {
     "data": {
      "image/png": "[encoded data removed]",
      "text/plain": [
       "<Figure size 1800x720 with 1 Axes>"
      ]
     },
     "metadata": {
      "needs_background": "light"
     },
     "output_type": "display_data"
    }
   ],
   "source": [
    "comp_g.plot(kind='bar',figsize=(25,10));"
   ]
  },
  {
   "cell_type": "code",
   "execution_count": 31,
   "id": "9dbcd757",
   "metadata": {},
   "outputs": [
    {
     "name": "stderr",
     "output_type": "stream",
     "text": [
      "C:\\Users\\SHYAM\\anaconda3\\lib\\site-packages\\seaborn\\distributions.py:2557: FutureWarning: `distplot` is a deprecated function and will be removed in a future version. Please adapt your code to use either `displot` (a figure-level function with similar flexibility) or `histplot` (an axes-level function for histograms).\n",
      "  warnings.warn(msg, FutureWarning)\n",
      "C:\\Users\\SHYAM\\anaconda3\\lib\\site-packages\\seaborn\\distributions.py:2557: FutureWarning: `distplot` is a deprecated function and will be removed in a future version. Please adapt your code to use either `displot` (a figure-level function with similar flexibility) or `histplot` (an axes-level function for histograms).\n",
      "  warnings.warn(msg, FutureWarning)\n"
     ]
    },
    {
     "data": {
      "text/plain": [
       "<matplotlib.legend.Legend at 0x197bd2e49a0>"
      ]
     },
     "execution_count": 31,
     "metadata": {},
     "output_type": "execute_result"
    },
    {
     "data": {
      "image/png": "[encoded data removed]",
      "text/plain": [
       "<Figure size 432x288 with 1 Axes>"
      ]
     },
     "metadata": {
      "needs_background": "light"
     },
     "output_type": "display_data"
    }
   ],
   "source": [
    "sns.distplot(f_com['Actual'])\n",
    "sns.distplot(f_com['Machine_Predicted'])\n",
    "plt.legend(['Actual','Machine_Predicted'])"
   ]
  },
  {
   "cell_type": "markdown",
   "id": "e157ed04",
   "metadata": {},
   "source": [
    "# Hyperparameter Tuning"
   ]
  },
  {
   "cell_type": "code",
   "execution_count": 32,
   "id": "80dc2167",
   "metadata": {},
   "outputs": [],
   "source": [
    "from sklearn.model_selection import RandomizedSearchCV"
   ]
  },
  {
   "cell_type": "code",
   "execution_count": 33,
   "id": "39ca0cdd",
   "metadata": {},
   "outputs": [
    {
     "data": {
      "text/plain": [
       "{'n_estimators': (200, 300, 400, 500),\n",
       " 'max_features': ('auto', 'sqrt', 'log2'),\n",
       " 'min_samples_split': (2, 4, 6),\n",
       " 'random_state': (0, 1, 2, 3, 4, 5)}"
      ]
     },
     "execution_count": 33,
     "metadata": {},
     "output_type": "execute_result"
    }
   ],
   "source": [
    "parameters={'n_estimators':(200,300,400,500),'max_features':('auto','sqrt','log2'),\n",
    "           'min_samples_split':(2,4,6),'random_state':(0,1,2,3,4,5)}\n",
    "parameters"
   ]
  },
  {
   "cell_type": "code",
   "execution_count": 34,
   "id": "e5d9a4f5",
   "metadata": {},
   "outputs": [],
   "source": [
    "RF=RandomizedSearchCV(RandomForestRegressor(),param_distributions=parameters,cv=5,random_state=3)"
   ]
  },
  {
   "cell_type": "code",
   "execution_count": 35,
   "id": "1ee42ffe",
   "metadata": {},
   "outputs": [
    {
     "data": {
      "text/plain": [
       "RandomizedSearchCV(cv=5, estimator=RandomForestRegressor(),\n",
       "                   param_distributions={'max_features': ('auto', 'sqrt',\n",
       "                                                         'log2'),\n",
       "                                        'min_samples_split': (2, 4, 6),\n",
       "                                        'n_estimators': (200, 300, 400, 500),\n",
       "                                        'random_state': (0, 1, 2, 3, 4, 5)},\n",
       "                   random_state=3)"
      ]
     },
     "execution_count": 35,
     "metadata": {},
     "output_type": "execute_result"
    }
   ],
   "source": [
    "RF.fit(x_train,y_train)"
   ]
  },
  {
   "cell_type": "code",
   "execution_count": 36,
   "id": "ebb30540",
   "metadata": {},
   "outputs": [
    {
     "data": {
      "text/plain": [
       "RandomForestRegressor(max_features='sqrt', min_samples_split=6,\n",
       "                      n_estimators=400, random_state=1)"
      ]
     },
     "execution_count": 36,
     "metadata": {},
     "output_type": "execute_result"
    }
   ],
   "source": [
    "RF.best_estimator_"
   ]
  },
  {
   "cell_type": "code",
   "execution_count": 37,
   "id": "64745ea3",
   "metadata": {},
   "outputs": [],
   "source": [
    "model_hp=RandomForestRegressor(max_features='sqrt', min_samples_split=6,\n",
    "                      n_estimators=400, random_state=1)"
   ]
  },
  {
   "cell_type": "code",
   "execution_count": 38,
   "id": "ee7107b8",
   "metadata": {},
   "outputs": [],
   "source": [
    "model_hp=model_hp.fit(x_train,y_train)"
   ]
  },
  {
   "cell_type": "code",
   "execution_count": 39,
   "id": "7287b176",
   "metadata": {},
   "outputs": [
    {
     "data": {
      "text/plain": [
       "array([ 6.65025642, 14.52414176,  8.21329321, ..., 13.69496703,\n",
       "       14.97261969,  6.68595685])"
      ]
     },
     "execution_count": 39,
     "metadata": {},
     "output_type": "execute_result"
    }
   ],
   "source": [
    "y_pred_hp=model_hp.predict(x_test)\n",
    "y_pred_hp"
   ]
  },
  {
   "cell_type": "markdown",
   "id": "e503cf26",
   "metadata": {},
   "source": [
    "# Creating Dataframe"
   ]
  },
  {
   "cell_type": "code",
   "execution_count": 40,
   "id": "2682cb00",
   "metadata": {},
   "outputs": [
    {
     "data": {
      "text/html": [
       "<div>\n",
       "<style scoped>\n",
       "    .dataframe tbody tr th:only-of-type {\n",
       "        vertical-align: middle;\n",
       "    }\n",
       "\n",
       "    .dataframe tbody tr th {\n",
       "        vertical-align: top;\n",
       "    }\n",
       "\n",
       "    .dataframe thead th {\n",
       "        text-align: right;\n",
       "    }\n",
       "</style>\n",
       "<table border=\"1\" class=\"dataframe\">\n",
       "  <thead>\n",
       "    <tr style=\"text-align: right;\">\n",
       "      <th></th>\n",
       "      <th>Actual</th>\n",
       "      <th>Machine_Predicted</th>\n",
       "    </tr>\n",
       "  </thead>\n",
       "  <tbody>\n",
       "    <tr>\n",
       "      <th>23656</th>\n",
       "      <td>8.0</td>\n",
       "      <td>6.650256</td>\n",
       "    </tr>\n",
       "    <tr>\n",
       "      <th>27442</th>\n",
       "      <td>12.0</td>\n",
       "      <td>14.524142</td>\n",
       "    </tr>\n",
       "    <tr>\n",
       "      <th>40162</th>\n",
       "      <td>7.0</td>\n",
       "      <td>8.213293</td>\n",
       "    </tr>\n",
       "    <tr>\n",
       "      <th>8459</th>\n",
       "      <td>8.0</td>\n",
       "      <td>8.938021</td>\n",
       "    </tr>\n",
       "    <tr>\n",
       "      <th>8051</th>\n",
       "      <td>10.1</td>\n",
       "      <td>9.974367</td>\n",
       "    </tr>\n",
       "    <tr>\n",
       "      <th>...</th>\n",
       "      <td>...</td>\n",
       "      <td>...</td>\n",
       "    </tr>\n",
       "    <tr>\n",
       "      <th>44231</th>\n",
       "      <td>15.0</td>\n",
       "      <td>13.808400</td>\n",
       "    </tr>\n",
       "    <tr>\n",
       "      <th>18034</th>\n",
       "      <td>9.5</td>\n",
       "      <td>8.926557</td>\n",
       "    </tr>\n",
       "    <tr>\n",
       "      <th>33856</th>\n",
       "      <td>12.5</td>\n",
       "      <td>13.694967</td>\n",
       "    </tr>\n",
       "    <tr>\n",
       "      <th>15906</th>\n",
       "      <td>12.5</td>\n",
       "      <td>14.972620</td>\n",
       "    </tr>\n",
       "    <tr>\n",
       "      <th>40899</th>\n",
       "      <td>7.5</td>\n",
       "      <td>6.685957</td>\n",
       "    </tr>\n",
       "  </tbody>\n",
       "</table>\n",
       "<p>10000 rows × 2 columns</p>\n",
       "</div>"
      ],
      "text/plain": [
       "       Actual  Machine_Predicted\n",
       "23656     8.0           6.650256\n",
       "27442    12.0          14.524142\n",
       "40162     7.0           8.213293\n",
       "8459      8.0           8.938021\n",
       "8051     10.1           9.974367\n",
       "...       ...                ...\n",
       "44231    15.0          13.808400\n",
       "18034     9.5           8.926557\n",
       "33856    12.5          13.694967\n",
       "15906    12.5          14.972620\n",
       "40899     7.5           6.685957\n",
       "\n",
       "[10000 rows x 2 columns]"
      ]
     },
     "execution_count": 40,
     "metadata": {},
     "output_type": "execute_result"
    }
   ],
   "source": [
    "hp_com=pd.DataFrame({'Actual':y_test,'Machine_Predicted':y_pred_hp})\n",
    "hp_com"
   ]
  },
  {
   "cell_type": "markdown",
   "id": "4c0f2963",
   "metadata": {},
   "source": [
    "# Residual of Hyperparameter Tuning"
   ]
  },
  {
   "cell_type": "code",
   "execution_count": 41,
   "id": "3c3b5493",
   "metadata": {},
   "outputs": [
    {
     "data": {
      "text/plain": [
       "23656    1.349744\n",
       "27442   -2.524142\n",
       "40162   -1.213293\n",
       "8459    -0.938021\n",
       "8051     0.125633\n",
       "           ...   \n",
       "44231    1.191600\n",
       "18034    0.573443\n",
       "33856   -1.194967\n",
       "15906   -2.472620\n",
       "40899    0.814043\n",
       "Name: amount, Length: 10000, dtype: float64"
      ]
     },
     "execution_count": 41,
     "metadata": {},
     "output_type": "execute_result"
    }
   ],
   "source": [
    "Residual_hp=y_test-y_pred_hp\n",
    "Residual_hp"
   ]
  },
  {
   "cell_type": "code",
   "execution_count": 42,
   "id": "296d66ba",
   "metadata": {},
   "outputs": [
    {
     "data": {
      "text/plain": [
       "0.7803401857097036"
      ]
     },
     "execution_count": 42,
     "metadata": {},
     "output_type": "execute_result"
    }
   ],
   "source": [
    "model_hp.score(x_test,y_test)"
   ]
  },
  {
   "cell_type": "markdown",
   "id": "91bb4a46",
   "metadata": {},
   "source": [
    "# Mean Square Error"
   ]
  },
  {
   "cell_type": "code",
   "execution_count": null,
   "id": "6a6b36a2",
   "metadata": {},
   "outputs": [],
   "source": [
    "from sklearn.metrics import mean_squared_error"
   ]
  },
  {
   "cell_type": "code",
   "execution_count": 43,
   "id": "468bc915",
   "metadata": {},
   "outputs": [
    {
     "data": {
      "text/plain": [
       "20.347999535077765"
      ]
     },
     "execution_count": 43,
     "metadata": {},
     "output_type": "execute_result"
    }
   ],
   "source": [
    "MSE_hp=mean_squared_error(y_test,y_pred_hp)\n",
    "MSE_hp"
   ]
  },
  {
   "cell_type": "markdown",
   "id": "1846d0c0",
   "metadata": {},
   "source": [
    "# Root Mean Square"
   ]
  },
  {
   "cell_type": "code",
   "execution_count": 45,
   "id": "d1efb67e",
   "metadata": {},
   "outputs": [
    {
     "data": {
      "text/plain": [
       "4.510875694926404"
      ]
     },
     "execution_count": 45,
     "metadata": {},
     "output_type": "execute_result"
    }
   ],
   "source": [
    "root_mean_hp=np.sqrt(MSE_hp)\n",
    "root_mean_hp"
   ]
  },
  {
   "cell_type": "markdown",
   "id": "061bf18b",
   "metadata": {},
   "source": [
    "# Graphical Representation of Best Estimator Model"
   ]
  },
  {
   "cell_type": "code",
   "execution_count": 46,
   "id": "bd8ffa40",
   "metadata": {},
   "outputs": [
    {
     "data": {
      "text/plain": [
       "(10000, 5)"
      ]
     },
     "execution_count": 46,
     "metadata": {},
     "output_type": "execute_result"
    }
   ],
   "source": [
    "x_test.shape"
   ]
  },
  {
   "cell_type": "code",
   "execution_count": 47,
   "id": "e393cf86",
   "metadata": {},
   "outputs": [],
   "source": [
    "comp_hp=hp_com.head(100)"
   ]
  },
  {
   "cell_type": "code",
   "execution_count": 48,
   "id": "1373f646",
   "metadata": {},
   "outputs": [
    {
     "data": {
      "image/png": "[encoded data removed]",
      "text/plain": [
       "<Figure size 1800x720 with 1 Axes>"
      ]
     },
     "metadata": {
      "needs_background": "light"
     },
     "output_type": "display_data"
    }
   ],
   "source": [
    "comp_hp.plot(kind='bar',figsize=(25,10));"
   ]
  },
  {
   "cell_type": "code",
   "execution_count": 49,
   "id": "af868b07",
   "metadata": {},
   "outputs": [
    {
     "name": "stderr",
     "output_type": "stream",
     "text": [
      "C:\\Users\\SHYAM\\anaconda3\\lib\\site-packages\\seaborn\\distributions.py:2557: FutureWarning: `distplot` is a deprecated function and will be removed in a future version. Please adapt your code to use either `displot` (a figure-level function with similar flexibility) or `histplot` (an axes-level function for histograms).\n",
      "  warnings.warn(msg, FutureWarning)\n",
      "C:\\Users\\SHYAM\\anaconda3\\lib\\site-packages\\seaborn\\distributions.py:2557: FutureWarning: `distplot` is a deprecated function and will be removed in a future version. Please adapt your code to use either `displot` (a figure-level function with similar flexibility) or `histplot` (an axes-level function for histograms).\n",
      "  warnings.warn(msg, FutureWarning)\n"
     ]
    },
    {
     "data": {
      "text/plain": [
       "<matplotlib.legend.Legend at 0x197bd9af130>"
      ]
     },
     "execution_count": 49,
     "metadata": {},
     "output_type": "execute_result"
    },
    {
     "data": {
      "image/png": "[encoded data removed]",
      "text/plain": [
       "<Figure size 432x288 with 1 Axes>"
      ]
     },
     "metadata": {
      "needs_background": "light"
     },
     "output_type": "display_data"
    }
   ],
   "source": [
    "sns.distplot(hp_com['Actual'])\n",
    "sns.distplot(hp_com['Machine_Predicted'])\n",
    "plt.legend(['Actual','Machine_Predicted'])"
   ]
  },
  {
   "cell_type": "markdown",
   "id": "3c8b4969",
   "metadata": {},
   "source": [
    "# By comparing the Accuracy of the model before and after HyperParameter Tuning, The HyperParameter Tuning Gives the Best Accuracy of 78%"
   ]
  },
  {
   "cell_type": "code",
   "execution_count": null,
   "id": "8774e243",
   "metadata": {},
   "outputs": [],
   "source": []
  }
 ],
 "metadata": {
  "kernelspec": {
   "display_name": "Python 3",
   "language": "python",
   "name": "python3"
  },
  "language_info": {
   "codemirror_mode": {
    "name": "ipython",
    "version": 3
   },
   "file_extension": ".py",
   "mimetype": "text/x-python",
   "name": "python",
   "nbconvert_exporter": "python",
   "pygments_lexer": "ipython3",
   "version": "3.8.8"
  }
 },
 "nbformat": 4,
 "nbformat_minor": 5
}
